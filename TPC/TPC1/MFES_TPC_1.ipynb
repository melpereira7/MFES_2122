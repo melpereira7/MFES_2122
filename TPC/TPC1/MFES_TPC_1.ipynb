{
  "cells": [
    {
      "cell_type": "markdown",
      "metadata": {
        "id": "FXAjm5DrZL4_"
      },
      "source": [
        "> **Número:** PG47520\n",
        "> \n",
        "> **Nome:** Melânia Rafaela Sousa Pereira\n",
        ">\n",
        "> **Curso:** Mestrado em Engenharia Informática"
      ]
    },
    {
      "cell_type": "markdown",
      "metadata": {
        "id": "sz6OKn4my_yo"
      },
      "source": [
        "# 1"
      ]
    },
    {
      "cell_type": "markdown",
      "metadata": {
        "id": "LiEXfj5NawuR"
      },
      "source": [
        "Variáveis:\n",
        "1. B - Usar bigode\n",
        "2. C - Ser casado\n",
        "3. R - Ser de Ribeirão\n",
        "4. A - Usar camisola amarela\n",
        "5. D - Assistir aos jogos ao Domingo\n",
        "\n",
        "Regras:\n",
        "- Todos os sócios que usam bigode são casados.\n",
        "> `B → C ≡ ¬B ∨ C`\n",
        "- Cada sócio do clube que não é de Ribeirão tem que usar camisola amarela.\n",
        "> `¬R → A ≡ R ∨ A`\n",
        "- Os sócios casados não podem assistir aos jogos ao Domingo.\n",
        "> `C → ¬D ≡ ¬C ∨ ¬D`\n",
        "- Um sócio vai aos jogos de Domingo se e só se é de Ribeirão.\n",
        "> `D ↔ R ≡ D → R ∧ R → D ≡ (¬D ∨ R) ∧ (¬R ∨ D)`\n",
        "- Cada sócio usa bigode ou não usa camisola amarela.\n",
        "> `B ∨ ¬A`\n",
        "- Todos os sócios de Ribeirão usam bigode.\n",
        "> `R → B ≡ ¬R ∨ B`\n",
        "\n",
        "\n",
        "\n"
      ]
    },
    {
      "cell_type": "code",
      "execution_count": null,
      "metadata": {
        "id": "Dzb3CAdVZIh9"
      },
      "outputs": [],
      "source": [
        "!pip install python-sat[pblib,aiger]"
      ]
    },
    {
      "cell_type": "markdown",
      "metadata": {
        "id": "XafRkJ03y3MS"
      },
      "source": [
        "# 2"
      ]
    },
    {
      "cell_type": "code",
      "execution_count": 21,
      "metadata": {
        "colab": {
          "base_uri": "https://localhost:8080/"
        },
        "id": "X6hEmkbtYDFX",
        "outputId": "a749232e-3c17-42c9-fb10-28dbf1c097ae"
      },
      "outputs": [
        {
          "name": "stdout",
          "output_type": "stream",
          "text": [
            "SAT\n",
            "[1, 2, -3, 4, -5]\n"
          ]
        }
      ],
      "source": [
        "# alínea 2\n",
        "# Considera-se a numeração de variáveis feita na alínea 1\n",
        "\n",
        "from pysat.solvers import Minisat22\n",
        "\n",
        "s = Minisat22()                # cria o solver s\n",
        "\n",
        "s.add_clause([-1, 2])          # acrescenta uma cláusula\n",
        "s.add_clause([3, 4])\n",
        "s.add_clause([-2, -5])\n",
        "s.add_clause([-5, 3])\n",
        "s.add_clause([-3, 5])\n",
        "s.add_clause([1, -4])\n",
        "s.add_clause([-3, 1])\n",
        "\n",
        "if s.solve():                  # testa a satisfatibilidade\n",
        "    print(\"SAT\")\n",
        "    print(s.get_model())       # imprime o modelo\n",
        "else: \n",
        "    print(\"UNSAT\")\n",
        "\n",
        "s.delete()                     # apaga o solver s"
      ]
    },
    {
      "cell_type": "markdown",
      "metadata": {
        "id": "9cJ-DTfip2C-"
      },
      "source": [
        "> O resultado anterior foi SAT, logo o conjunto de regras é consistente.\n"
      ]
    },
    {
      "cell_type": "markdown",
      "metadata": {
        "id": "W9o6VDm2zDIv"
      },
      "source": [
        "# 3.a"
      ]
    },
    {
      "cell_type": "code",
      "execution_count": 10,
      "metadata": {
        "colab": {
          "base_uri": "https://localhost:8080/"
        },
        "id": "zfVMZXMUWHoA",
        "outputId": "f599ea9d-9a5f-455b-dbc0-7966633a48e9"
      },
      "outputs": [
        {
          "name": "stdout",
          "output_type": "stream",
          "text": [
            "UNSAT\n"
          ]
        }
      ],
      "source": [
        "# alínea 3.a) A afirmação “Quem usa bigode não pode ir ao jogo ao Domingo.” é correcta?\n",
        "# \n",
        "# testar a afirmação: usar bigode implica não assistir aos jogos ao Domingo\n",
        "# 1 -> -5\n",
        "# -1 V -5\n",
        "# -(-1 V -5) UNSAT?\n",
        "# verificar se (1 ∧ 5) UNSAT?\n",
        "\n",
        "from pysat.solvers import Minisat22\n",
        "\n",
        "s = Minisat22()                # cria o solver s\n",
        "\n",
        "s.add_clause([-1, 2])          # acrescenta uma cláusula\n",
        "s.add_clause([3, 4])\n",
        "s.add_clause([-2, -5])\n",
        "s.add_clause([-5, 3])\n",
        "s.add_clause([-3, 5])\n",
        "s.add_clause([1, -4])\n",
        "s.add_clause([-3, 1])\n",
        "s.add_clause([1])\n",
        "s.add_clause([5])\n",
        "\n",
        "if s.solve():                  # testa a satisfatibilidade\n",
        "    print(\"SAT\")\n",
        "    print(s.get_model())       # imprime o modelo\n",
        "else: \n",
        "    print(\"UNSAT\")\n",
        "\n",
        "s.delete()                     # apaga o solver s"
      ]
    },
    {
      "cell_type": "markdown",
      "metadata": {
        "id": "BQpm_ruGqIHw"
      },
      "source": [
        "> O resultado desta verificação foi UNSAT, por isso a fórmula testada é válida, logo, a afirmação é correta, ou seja, quem usa bigode não pode ir aos jogos ao Domingo."
      ]
    },
    {
      "cell_type": "markdown",
      "metadata": {
        "id": "G_Niod_8zK25"
      },
      "source": [
        "# 3.b"
      ]
    },
    {
      "cell_type": "code",
      "execution_count": 11,
      "metadata": {
        "colab": {
          "base_uri": "https://localhost:8080/"
        },
        "id": "o8Ynd2Hnkwug",
        "outputId": "4d2675cb-674b-4c0f-89b9-f9d5bce6b8c9"
      },
      "outputs": [
        {
          "name": "stdout",
          "output_type": "stream",
          "text": [
            "UNSAT\n"
          ]
        }
      ],
      "source": [
        "# alínea 3.b) Pode um membro de camisola amarela ser casado?\n",
        "#\n",
        "# testar a afirmação: usar camisola amarela e ser casado\n",
        "# 4 ∧ 2\n",
        "# -(4 ∧ 2) UNSAT?\n",
        "# verificar se (-4 V -2) UNSAT?\n",
        "\n",
        "from pysat.solvers import Minisat22\n",
        "\n",
        "s = Minisat22()                # cria o solver s\n",
        "\n",
        "s.add_clause([-1, 2])          # acrescenta uma cláusula\n",
        "s.add_clause([3, 4])\n",
        "s.add_clause([-2, -5])\n",
        "s.add_clause([-5, 3])\n",
        "s.add_clause([-3, 5])\n",
        "s.add_clause([1, -4])\n",
        "s.add_clause([-3, 1])\n",
        "s.add_clause([-4, -2])\n",
        "\n",
        "if s.solve():                  # testa a satisfatibilidade\n",
        "    print(\"SAT\")\n",
        "    print(s.get_model())       # imprime o modelo\n",
        "else: \n",
        "    print(\"UNSAT\")\n",
        "\n",
        "s.delete()                     # apaga o solver s"
      ]
    },
    {
      "cell_type": "markdown",
      "metadata": {
        "id": "u5KOc_yMqezJ"
      },
      "source": [
        "> O resultado desta verificação foi UNSAT, por isso a fórmula testada é válida, logo, a afirmação é correta, ou seja, um membro pode usar camisola amarela e ser casado."
      ]
    },
    {
      "cell_type": "markdown",
      "metadata": {
        "id": "CKKpidlszRkh"
      },
      "source": [
        "# 3.c"
      ]
    },
    {
      "cell_type": "code",
      "execution_count": 12,
      "metadata": {
        "colab": {
          "base_uri": "https://localhost:8080/"
        },
        "id": "ghQnkZ-gmypE",
        "outputId": "986870fc-9522-4b64-f76f-d462c6b9ed33"
      },
      "outputs": [
        {
          "name": "stdout",
          "output_type": "stream",
          "text": [
            "UNSAT\n"
          ]
        }
      ],
      "source": [
        "# alínea 3.c) A afirmação “Afinal o clube não pode ter sócios Ribeironenses.” é correcta?\n",
        "#\n",
        "# testar a afirmação: não ser de Ribeirão\n",
        "# -3\n",
        "# -(-3) UNSAT?\n",
        "# verificar se 3 UNSAT? \n",
        "from pysat.solvers import Minisat22\n",
        "\n",
        "s = Minisat22()                # cria o solver s\n",
        "\n",
        "s.add_clause([-1, 2])          # acrescenta uma cláusula\n",
        "s.add_clause([3, 4])\n",
        "s.add_clause([-2, -5])\n",
        "s.add_clause([-5, 3])\n",
        "s.add_clause([-3, 5])\n",
        "s.add_clause([1, -4])\n",
        "s.add_clause([-3, 1])\n",
        "s.add_clause([3])\n",
        "\n",
        "if s.solve():                  # testa a satisfatibilidade\n",
        "    print(\"SAT\")\n",
        "    print(s.get_model())       # imprime o modelo\n",
        "else: \n",
        "    print(\"UNSAT\")\n",
        "\n",
        "s.delete()                     # apaga o solver s"
      ]
    },
    {
      "cell_type": "markdown",
      "metadata": {
        "id": "PMnHXNcoqlz2"
      },
      "source": [
        "> O resultado desta verificação foi UNSAT, por isso a fórmula testada é válida, logo, a afirmação é correta, ou seja, o clube não pode ter sócios Ribeironenses."
      ]
    },
    {
      "cell_type": "markdown",
      "metadata": {
        "id": "q34ulzCfzWhD"
      },
      "source": [
        "# 3.d"
      ]
    },
    {
      "cell_type": "code",
      "execution_count": 13,
      "metadata": {
        "colab": {
          "base_uri": "https://localhost:8080/"
        },
        "id": "PCTo7NYPnf6z",
        "outputId": "3ab77c5b-4eb8-438b-d5f4-8a225b0448d6"
      },
      "outputs": [
        {
          "name": "stdout",
          "output_type": "stream",
          "text": [
            "UNSAT\n"
          ]
        }
      ],
      "source": [
        "# alínea 3.d) Os sócios casados têm todos bigode?\n",
        "#\n",
        "# testar a afirmação: ser casado implica ter bigode\n",
        "# 2 -> 1\n",
        "# -2 V 1\n",
        "# -(-2 V 1) UNSAT?\n",
        "# verificar se 2 ∧ -1 UNSAT?\n",
        "\n",
        "from pysat.solvers import Minisat22\n",
        "\n",
        "s = Minisat22()                # cria o solver s\n",
        "\n",
        "s.add_clause([-1, 2])          # acrescenta uma cláusula\n",
        "s.add_clause([3, 4])\n",
        "s.add_clause([-2, -5])\n",
        "s.add_clause([-5, 3])\n",
        "s.add_clause([-3, 5])\n",
        "s.add_clause([1, -4])\n",
        "s.add_clause([-3, 1])\n",
        "s.add_clause([2])\n",
        "s.add_clause([-1])\n",
        "\n",
        "if s.solve():                  # testa a satisfatibilidade\n",
        "    print(\"SAT\")\n",
        "    print(s.get_model())       # imprime o modelo\n",
        "else: \n",
        "    print(\"UNSAT\")\n",
        "\n",
        "s.delete()                     # apaga o solver s"
      ]
    },
    {
      "cell_type": "markdown",
      "metadata": {
        "id": "FRsRsHV8vFIk"
      },
      "source": [
        "> O resultado desta verificação foi UNSAT, por isso a fórmula testada é válida, logo, a afirmação é correta, ou seja, os sócios casados têm todos bigode."
      ]
    },
    {
      "cell_type": "markdown",
      "metadata": {
        "id": "Ld4jLJ2qzY-D"
      },
      "source": [
        "# 3.e"
      ]
    },
    {
      "cell_type": "code",
      "execution_count": 14,
      "metadata": {
        "colab": {
          "base_uri": "https://localhost:8080/"
        },
        "id": "TgWozg6gn-iv",
        "outputId": "9dfbd738-b55e-4cf3-c4e5-4561b14d47fc"
      },
      "outputs": [
        {
          "name": "stdout",
          "output_type": "stream",
          "text": [
            "UNSAT\n"
          ]
        }
      ],
      "source": [
        "# alínea 3.e) A afirmação “Ao domingo nunca há sócios a assistir aos jogos.” é correcta?\n",
        "#\n",
        "# testar a afirmação: não há sócios a assistir aos jogos ao Domingo\n",
        "# -5\n",
        "# -(-5) UNSAT?\n",
        "# verificar se 5 UNSAT?\n",
        "\n",
        "from pysat.solvers import Minisat22\n",
        "\n",
        "s = Minisat22()                # cria o solver s\n",
        "\n",
        "s.add_clause([-1, 2])          # acrescenta uma cláusula\n",
        "s.add_clause([3, 4])\n",
        "s.add_clause([-2, -5])\n",
        "s.add_clause([-5, 3])\n",
        "s.add_clause([-3, 5])\n",
        "s.add_clause([1, -4])\n",
        "s.add_clause([-3, 1])\n",
        "s.add_clause([5])\n",
        "\n",
        "if s.solve():                  # testa a satisfatibilidade\n",
        "    print(\"SAT\")\n",
        "    print(s.get_model())       # imprime o modelo\n",
        "else: \n",
        "    print(\"UNSAT\")\n",
        "\n",
        "s.delete()                     # apaga o solver s"
      ]
    },
    {
      "cell_type": "markdown",
      "metadata": {
        "id": "LH8lfSIIvccw"
      },
      "source": [
        "> O resultado desta verificação foi UNSAT, por isso a fórmula testada é válida, logo, a afirmação é correta, ou seja, ao domingo nunca há sócios a assistir aos jogos."
      ]
    }
  ],
  "metadata": {
    "colab": {
      "collapsed_sections": [],
      "name": "[MFES]TPC1.ipynb",
      "provenance": []
    },
    "kernelspec": {
      "display_name": "Python 3.9.13 64-bit",
      "language": "python",
      "name": "python3"
    },
    "language_info": {
      "name": "python",
      "version": "3.9.13"
    },
    "vscode": {
      "interpreter": {
        "hash": "b0fa6594d8f4cbf19f97940f81e996739fb7646882a419484c72d19e05852a7e"
      }
    }
  },
  "nbformat": 4,
  "nbformat_minor": 0
}
