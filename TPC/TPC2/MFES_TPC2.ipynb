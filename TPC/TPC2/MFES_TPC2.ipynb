{
  "cells": [
    {
      "cell_type": "markdown",
      "metadata": {
        "id": "POqjL4btSs3s"
      },
      "source": [
        "> **Número:** PG47520\n",
        "> \n",
        "> **Nome:** Melânia Rafaela Sousa Pereira\n",
        ">\n",
        "> **Curso:** Mestrado em Engenharia Informática"
      ]
    },
    {
      "cell_type": "markdown",
      "metadata": {
        "id": "rnqhvw5ZUEua"
      },
      "source": [
        "# Install z3 and imports"
      ]
    },
    {
      "cell_type": "code",
      "execution_count": 4,
      "metadata": {
        "id": "3gd3SQ28yHsy"
      },
      "outputs": [
        {
          "name": "stdout",
          "output_type": "stream",
          "text": [
            "\u001b[33mDEPRECATION: Configuring installation scheme with distutils config files is deprecated and will no longer work in the near future. If you are using a Homebrew or Linuxbrew Python, please see discussion at https://github.com/Homebrew/homebrew-core/issues/76621\u001b[0m\n",
            "\u001b[33mWARNING: Retrying (Retry(total=4, connect=None, read=None, redirect=None, status=None)) after connection broken by 'NewConnectionError('<pip._vendor.urllib3.connection.HTTPSConnection object at 0x1021fa1f0>: Failed to establish a new connection: [Errno 8] nodename nor servname provided, or not known')': /simple/z3-solver/\u001b[0m\n",
            "\u001b[33mWARNING: Retrying (Retry(total=3, connect=None, read=None, redirect=None, status=None)) after connection broken by 'NewConnectionError('<pip._vendor.urllib3.connection.HTTPSConnection object at 0x1021fa970>: Failed to establish a new connection: [Errno 8] nodename nor servname provided, or not known')': /simple/z3-solver/\u001b[0m\n",
            "\u001b[33mWARNING: Retrying (Retry(total=2, connect=None, read=None, redirect=None, status=None)) after connection broken by 'NewConnectionError('<pip._vendor.urllib3.connection.HTTPSConnection object at 0x1021fab20>: Failed to establish a new connection: [Errno 8] nodename nor servname provided, or not known')': /simple/z3-solver/\u001b[0m\n",
            "\u001b[33mWARNING: Retrying (Retry(total=1, connect=None, read=None, redirect=None, status=None)) after connection broken by 'NewConnectionError('<pip._vendor.urllib3.connection.HTTPSConnection object at 0x1021facd0>: Failed to establish a new connection: [Errno 8] nodename nor servname provided, or not known')': /simple/z3-solver/\u001b[0m\n",
            "\u001b[33mWARNING: Retrying (Retry(total=0, connect=None, read=None, redirect=None, status=None)) after connection broken by 'NewConnectionError('<pip._vendor.urllib3.connection.HTTPSConnection object at 0x1021fae80>: Failed to establish a new connection: [Errno 8] nodename nor servname provided, or not known')': /simple/z3-solver/\u001b[0m\n",
            "\u001b[31mERROR: Could not find a version that satisfies the requirement z3-solver (from versions: none)\u001b[0m\n",
            "\u001b[31mERROR: No matching distribution found for z3-solver\u001b[0m\n",
            "\u001b[33mWARNING: You are using pip version 21.3.1; however, version 22.0.3 is available.\n",
            "You should consider upgrading via the '/opt/homebrew/opt/python@3.9/bin/python3.9 -m pip install --upgrade pip' command.\u001b[0m\n"
          ]
        }
      ],
      "source": [
        "!pip3 install z3-solver"
      ]
    },
    {
      "cell_type": "code",
      "execution_count": 3,
      "metadata": {
        "id": "6iL-vqwyyOcM"
      },
      "outputs": [
        {
          "ename": "ModuleNotFoundError",
          "evalue": "No module named 'z3'",
          "output_type": "error",
          "traceback": [
            "\u001b[0;31m---------------------------------------------------------------------------\u001b[0m",
            "\u001b[0;31mModuleNotFoundError\u001b[0m                       Traceback (most recent call last)",
            "\u001b[1;32m/Users/mel/Library/CloudStorage/OneDrive-UniversidadedoMinho/UNI/MEI/1º ano/1º semestre/MFES/TPC/TPC2/MFES_TPC2.ipynb Cell 4'\u001b[0m in \u001b[0;36m<module>\u001b[0;34m\u001b[0m\n\u001b[0;32m----> <a href='vscode-notebook-cell:/Users/mel/Library/CloudStorage/OneDrive-UniversidadedoMinho/UNI/MEI/1%C2%BA%20ano/1%C2%BA%20semestre/MFES/TPC/TPC2/MFES_TPC2.ipynb#ch0000003?line=0'>1</a>\u001b[0m \u001b[39mfrom\u001b[39;00m \u001b[39mz3\u001b[39;00m \u001b[39mimport\u001b[39;00m \u001b[39m*\u001b[39m\n",
            "\u001b[0;31mModuleNotFoundError\u001b[0m: No module named 'z3'"
          ]
        }
      ],
      "source": [
        "from z3 import *"
      ]
    },
    {
      "cell_type": "markdown",
      "metadata": {
        "id": "Zooqagl2UNzj"
      },
      "source": [
        "# Futoshiki Puzzle"
      ]
    },
    {
      "cell_type": "markdown",
      "metadata": {
        "id": "_c4QxEr7UruF"
      },
      "source": [
        "Um exemplo de tabuleiro para teste, cuja solução está nos ficheiros deste notebook (futoshiki_solucao.JPG): \\\\\n",
        "```n = 4``` \\\\\n",
        "```tabuleiro = \"1,0,0,0,0,0,0,0,0,0,0,0,0,0,0,3,0_1_>_0_2;1_0_>_1_1;1_1_>_2_1;1_2_<_2_2;3_1_>_3_2\"```\n"
      ]
    },
    {
      "cell_type": "code",
      "execution_count": null,
      "metadata": {
        "id": "-ykrb0KTy3le"
      },
      "outputs": [],
      "source": [
        "# exemplo de tabuleiro para teste:\n",
        "# 1,0,0,0,0,0,0,0,0,0,0,0,0,0,0,3,0_1_>_0_2;1_0_>_1_1;1_1_>_2_1;1_2_<_2_2;3_1_>_3_2\n",
        "\n",
        "n = int(input(\"Números por linha (n): \"))\n",
        "tabuleiro = input(\"Tabuleiro (exemplo para n=2: 1,0,0,0,0_0_<_0_1;0_1_>_1_1): \")\n",
        "\n",
        "s = Solver()\n",
        "\n",
        "x = {}\n",
        "for i in range (n) :\n",
        "  x[i] = {}\n",
        "  for j in range (n) :\n",
        "    x[i][j] = Int('x'+str(i)+str(j))\n",
        "    s.add(And(1 <= x[i][j], x[i][j] <= n))\n",
        "\n",
        "# restrições de linha\n",
        "for i in range (n):\n",
        "  s.add(Distinct ([ x[i][j] for j in range (n) ]))\n",
        "\n",
        "# restrições de coluna\n",
        "for j in range (n):\n",
        "  s.add(Distinct([ x[i][j] for i in range (n) ]))\n",
        "\n",
        "for i in range(n):\n",
        "  for j in range(n):\n",
        "    if tabuleiro.split(',')[i * n + j] != '0':\n",
        "      s.add(x[i][j] == int(tabuleiro.split(',')[i * n + j]))\n",
        "\n",
        "\n",
        "conds = tabuleiro.split(',')[-1].split(';')\n",
        "for k in range(len(conds)):\n",
        "  i1 = int(tabuleiro.split(',')[-1].split(';')[k].split('_')[0])\n",
        "  j1 = int(tabuleiro.split(',')[-1].split(';')[k].split('_')[1])\n",
        "  i2 = int(tabuleiro.split(',')[-1].split(';')[k].split('_')[3])\n",
        "  j2 = int(tabuleiro.split(',')[-1].split(';')[k].split('_')[4])\n",
        "  if tabuleiro.split(',')[-1].split(';')[k].split('_')[2] == '<':\n",
        "    s.add(x[i1][j1] < x[i2][j2])\n",
        "  elif tabuleiro.split(',')[-1].split(';')[k].split('_')[2] == '>':\n",
        "    s.add(x[i1][j1] > x[i2][j2])\n",
        "\n",
        "#for c in s.assertions():\n",
        "#  print(c)\n",
        "\n",
        "print(s.check())\n",
        "\n",
        "if s.check() == sat:\n",
        "  m = s.model()\n",
        "  for i in range(n):\n",
        "    print([ m[x[i][j]].as_long() for j in range(n) ])\n",
        "else:\n",
        "  print(\"não tem solução\")\n",
        "\n"
      ]
    }
  ],
  "metadata": {
    "colab": {
      "name": "MFES_TPC2.ipynb",
      "provenance": []
    },
    "kernelspec": {
      "display_name": "Python 3",
      "name": "python3"
    },
    "language_info": {
      "codemirror_mode": {
        "name": "ipython",
        "version": 3
      },
      "file_extension": ".py",
      "mimetype": "text/x-python",
      "name": "python",
      "nbconvert_exporter": "python",
      "pygments_lexer": "ipython3",
      "version": "3.9.10"
    }
  },
  "nbformat": 4,
  "nbformat_minor": 0
}
